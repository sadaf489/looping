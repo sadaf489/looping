{
  "nbformat": 4,
  "nbformat_minor": 0,
  "metadata": {
    "colab": {
      "provenance": []
    },
    "kernelspec": {
      "name": "python3",
      "display_name": "Python 3"
    },
    "language_info": {
      "name": "python"
    }
  },
  "cells": [
    {
      "cell_type": "code",
      "execution_count": 3,
      "metadata": {
        "colab": {
          "base_uri": "https://localhost:8080/"
        },
        "id": "iEidh8H4QqfC",
        "outputId": "328a754b-343c-49be-834a-8ffe2604528b"
      },
      "outputs": [
        {
          "output_type": "stream",
          "name": "stdout",
          "text": [
            "A\n",
            "B\n",
            "C\n"
          ]
        }
      ],
      "source": [
        "alphabets=[\"A\",\"B\",\"C\"]\n",
        "for x in alphabets:\n",
        "  print(x)\n"
      ]
    },
    {
      "cell_type": "code",
      "source": [
        "colors={\"red\",\"green\",\"blue\",\"black\",\"white\",\"purple\",}\n",
        "for a in colors:\n",
        "  print(a)\n",
        "\n",
        "\n",
        ""
      ],
      "metadata": {
        "colab": {
          "base_uri": "https://localhost:8080/"
        },
        "id": "_R7HzrKgRukj",
        "outputId": "0ef0d6d9-665f-41e5-bad1-711024403490"
      },
      "execution_count": 7,
      "outputs": [
        {
          "output_type": "stream",
          "name": "stdout",
          "text": [
            "blue\n",
            "purple\n",
            "black\n",
            "green\n",
            "red\n",
            "white\n"
          ]
        }
      ]
    },
    {
      "cell_type": "code",
      "source": [
        "fruits=[\"apple\",\"grapes\",\"pine apple\",\"dates\",\"banana\",\"orange\"]\n",
        "for F in fruits:\n",
        "  print(F)"
      ],
      "metadata": {
        "colab": {
          "base_uri": "https://localhost:8080/"
        },
        "id": "EYZ1ZRhwSO-S",
        "outputId": "2589c8b8-adff-4a67-bf17-2f6115bab94a"
      },
      "execution_count": 9,
      "outputs": [
        {
          "output_type": "stream",
          "name": "stdout",
          "text": [
            "apple\n",
            "grapes\n",
            "pine apple\n",
            "dates\n",
            "banana\n",
            "orange\n"
          ]
        }
      ]
    },
    {
      "cell_type": "code",
      "source": [
        "for count in range(20):\n",
        "  print(count)"
      ],
      "metadata": {
        "colab": {
          "base_uri": "https://localhost:8080/"
        },
        "id": "nURUOk9BTj9j",
        "outputId": "b0712d31-e904-4271-a554-9a5c74c195f0"
      },
      "execution_count": 11,
      "outputs": [
        {
          "output_type": "stream",
          "name": "stdout",
          "text": [
            "0\n",
            "1\n",
            "2\n",
            "3\n",
            "4\n",
            "5\n",
            "6\n",
            "7\n",
            "8\n",
            "9\n",
            "10\n",
            "11\n",
            "12\n",
            "13\n",
            "14\n",
            "15\n",
            "16\n",
            "17\n",
            "18\n",
            "19\n"
          ]
        }
      ]
    },
    {
      "cell_type": "code",
      "source": [
        "months=[\"january\",\"febrary\",\"march\",\"april\",\"may\",\"june\",\"july\"]\n",
        "for x in months:\n",
        "  if x == \"may\":\n",
        "    break\n",
        "  print(x)"
      ],
      "metadata": {
        "id": "qBDASROIT-6q",
        "outputId": "8757f318-e07c-48bd-b7ee-6232f1a25e49",
        "colab": {
          "base_uri": "https://localhost:8080/"
        }
      },
      "execution_count": 13,
      "outputs": [
        {
          "output_type": "stream",
          "name": "stdout",
          "text": [
            "january\n",
            "febrary\n",
            "march\n",
            "april\n"
          ]
        }
      ]
    },
    {
      "cell_type": "code",
      "source": [
        "for numbers in range(5,10):\n",
        " print(numbers)"
      ],
      "metadata": {
        "id": "hWMoA-TkVj6y",
        "outputId": "da0a0552-fdc8-4fb9-ec1e-53f997ba0950",
        "colab": {
          "base_uri": "https://localhost:8080/"
        }
      },
      "execution_count": 18,
      "outputs": [
        {
          "output_type": "stream",
          "name": "stdout",
          "text": [
            "5\n",
            "6\n",
            "7\n",
            "8\n",
            "9\n"
          ]
        }
      ]
    },
    {
      "cell_type": "code",
      "source": [
        "days=[\"sunday\",\"monday\",\"friday\",\"tuesday\"]\n",
        "for x in days:\n",
        " if x == \"friday\":\n",
        "   break\n",
        " print(x)"
      ],
      "metadata": {
        "id": "vtLM2z12XEhq",
        "outputId": "dccaff18-d513-4ab0-ceb8-651c6108ab7d",
        "colab": {
          "base_uri": "https://localhost:8080/"
        }
      },
      "execution_count": 24,
      "outputs": [
        {
          "output_type": "stream",
          "name": "stdout",
          "text": [
            "sunday\n",
            "monday\n"
          ]
        }
      ]
    },
    {
      "cell_type": "code",
      "source": [
        "days=[\"sunday\",\"monday\",\"friday\",\"tuesday\"]\n",
        "for x in days:\n",
        " if x == \"monday\":\n",
        "   continue\n",
        " print(x)"
      ],
      "metadata": {
        "id": "hwbLFVaGX3Wi",
        "outputId": "cbcc8378-0c72-42a7-e0b4-43ccb7fba8c4",
        "colab": {
          "base_uri": "https://localhost:8080/"
        }
      },
      "execution_count": 23,
      "outputs": [
        {
          "output_type": "stream",
          "name": "stdout",
          "text": [
            "sunday\n",
            "friday\n",
            "tuesday\n"
          ]
        }
      ]
    },
    {
      "cell_type": "code",
      "source": [
        "for x in range(5,40,5):\n",
        " print(x)"
      ],
      "metadata": {
        "id": "Wzga3t8hYSNS",
        "outputId": "38eca556-e7d3-4935-c80c-afe8dcad2708",
        "colab": {
          "base_uri": "https://localhost:8080/"
        }
      },
      "execution_count": 26,
      "outputs": [
        {
          "output_type": "stream",
          "name": "stdout",
          "text": [
            "5\n",
            "10\n",
            "15\n",
            "20\n",
            "25\n",
            "30\n",
            "35\n"
          ]
        }
      ]
    },
    {
      "cell_type": "code",
      "source": [
        "for x in range(2,20,5):\n",
        "  print(x)"
      ],
      "metadata": {
        "id": "4jFWwNBIYyyy",
        "outputId": "0c3bf6dd-7e0d-4fc5-de51-1068f19bb733",
        "colab": {
          "base_uri": "https://localhost:8080/"
        }
      },
      "execution_count": 28,
      "outputs": [
        {
          "output_type": "stream",
          "name": "stdout",
          "text": [
            "2\n",
            "7\n",
            "12\n",
            "17\n"
          ]
        }
      ]
    },
    {
      "cell_type": "code",
      "source": [
        "books=[\"database\",\"english\",\"c++\",\"c#\"]\n",
        "subjects=[\"chemistry\",\"biology\",\"computer\"]\n",
        "for x in books:\n",
        " for y in subjects:\n",
        "  print(x,y)\n"
      ],
      "metadata": {
        "id": "AVKjSS3lZBfu",
        "outputId": "c4355cde-09f7-40b1-ddba-0e9a8f8d7659",
        "colab": {
          "base_uri": "https://localhost:8080/"
        }
      },
      "execution_count": 29,
      "outputs": [
        {
          "output_type": "stream",
          "name": "stdout",
          "text": [
            "database chemistry\n",
            "database biology\n",
            "database computer\n",
            "english chemistry\n",
            "english biology\n",
            "english computer\n",
            "c++ chemistry\n",
            "c++ biology\n",
            "c++ computer\n",
            "c# chemistry\n",
            "c# biology\n",
            "c# computer\n"
          ]
        }
      ]
    },
    {
      "cell_type": "code",
      "source": [
        "for x in range(10):\n",
        "  if x == 15:\n",
        "    break\n",
        "  print(x)\n",
        "else:\n",
        "  print(\"everything okk!\")"
      ],
      "metadata": {
        "id": "d71GNXrOahzC",
        "outputId": "18eb27d4-766d-4157-c997-8599ab69884e",
        "colab": {
          "base_uri": "https://localhost:8080/"
        }
      },
      "execution_count": 38,
      "outputs": [
        {
          "output_type": "stream",
          "name": "stdout",
          "text": [
            "0\n",
            "1\n",
            "2\n",
            "3\n",
            "4\n",
            "5\n",
            "6\n",
            "7\n",
            "8\n",
            "9\n",
            "everything okk!\n"
          ]
        }
      ]
    },
    {
      "cell_type": "code",
      "source": [
        "for x in range(13):\n",
        "  if x == 5:\n",
        "    break\n",
        "  print(x)\n",
        "else:\n",
        "  print(\"everything ok\")"
      ],
      "metadata": {
        "id": "ggfdDLBzbfVp",
        "outputId": "7b6ceea4-4c61-4677-8802-5db7685c247e",
        "colab": {
          "base_uri": "https://localhost:8080/"
        }
      },
      "execution_count": 39,
      "outputs": [
        {
          "output_type": "stream",
          "name": "stdout",
          "text": [
            "0\n",
            "1\n",
            "2\n",
            "3\n",
            "4\n"
          ]
        }
      ]
    },
    {
      "cell_type": "code",
      "source": [
        "for x in range(6):\n",
        "  if x == 3: continue\n",
        "  print(x)\n",
        "else:\n",
        "  print(\"Finally finished!\")"
      ],
      "metadata": {
        "id": "VA3YBnwLcuhR",
        "outputId": "9f1c8a8b-43b2-4954-cecf-3c264d3ce047",
        "colab": {
          "base_uri": "https://localhost:8080/"
        }
      },
      "execution_count": 33,
      "outputs": [
        {
          "output_type": "stream",
          "name": "stdout",
          "text": [
            "0\n",
            "1\n",
            "2\n",
            "4\n",
            "5\n",
            "Finally finished!\n"
          ]
        }
      ]
    },
    {
      "cell_type": "code",
      "source": [
        "colors={\"red\",\"green\",\"blue\",\"black\",\"white\",\"purple\",}\n",
        "for a in colors:\n",
        " print(a)\n",
        "else:\n",
        "  print(\"empty\")"
      ],
      "metadata": {
        "id": "7J8Ly_OidOsC",
        "outputId": "9b60ccec-9c4b-41ad-9589-e3fdc4e64341",
        "colab": {
          "base_uri": "https://localhost:8080/"
        }
      },
      "execution_count": 37,
      "outputs": [
        {
          "output_type": "stream",
          "name": "stdout",
          "text": [
            "blue\n",
            "purple\n",
            "black\n",
            "green\n",
            "red\n",
            "white\n",
            "empty\n"
          ]
        }
      ]
    },
    {
      "cell_type": "code",
      "source": [
        "for x in range(10):\n",
        "  if x == 6: break\n",
        "  print(x)\n",
        "else:\n",
        "  print(\"Finally finished!\")"
      ],
      "metadata": {
        "id": "fQ3hEqIJeuAS",
        "outputId": "013affde-1c13-462c-8632-e4f3a49f5ddb",
        "colab": {
          "base_uri": "https://localhost:8080/"
        }
      },
      "execution_count": 40,
      "outputs": [
        {
          "output_type": "stream",
          "name": "stdout",
          "text": [
            "0\n",
            "1\n",
            "2\n",
            "3\n",
            "4\n",
            "5\n"
          ]
        }
      ]
    },
    {
      "cell_type": "code",
      "source": [
        "for x in range(3):\n",
        "  if x == 4: break\n",
        "  print(x)\n",
        "else:\n",
        "  print(\"Finally finished!\")"
      ],
      "metadata": {
        "id": "RuwUkb9pe3Op",
        "outputId": "f01cb1f6-68a5-4181-d70b-0ab7c18fb975",
        "colab": {
          "base_uri": "https://localhost:8080/"
        }
      },
      "execution_count": 44,
      "outputs": [
        {
          "output_type": "stream",
          "name": "stdout",
          "text": [
            "0\n",
            "1\n",
            "2\n",
            "Finally finished!\n"
          ]
        }
      ]
    }
  ]
}